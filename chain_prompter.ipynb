{
 "cells": [
  {
   "cell_type": "code",
   "execution_count": 2,
   "id": "a0a536bd",
   "metadata": {},
   "outputs": [],
   "source": [
    "import os\n",
    "from openai import OpenAI\n",
    "from dotenv import load_dotenv"
   ]
  },
  {
   "cell_type": "code",
   "execution_count": 3,
   "id": "c9026c96",
   "metadata": {},
   "outputs": [],
   "source": [
    "load_dotenv(override=True)\n",
    "openai_api_key = os.getenv(\"OPENAI_API_KEY\")"
   ]
  },
  {
   "cell_type": "code",
   "execution_count": 4,
   "id": "711fd2de",
   "metadata": {},
   "outputs": [],
   "source": [
    "def question_decomposer_prompt(main_question: str) -> str:\n",
    "    return f\"\"\"\n",
    "    You are an expert researcher. Break down the following research question\n",
    "    into 3-5 smaller sub-questions for detailed analysis:\n",
    "    Question: \"{main_question}\"\n",
    "    Return only the list of sub-questions.\n",
    "    \"\"\""
   ]
  },
  {
   "cell_type": "code",
   "execution_count": 5,
   "id": "e5a6c0c9",
   "metadata": {},
   "outputs": [],
   "source": [
    "def summarization_prompt(sub_question: str, context: str) -> str:\n",
    "    return f\"\"\"\n",
    "    Summarize the following information to answer this sub-question:\n",
    "    Sub-question: {sub_question}\n",
    "    Context: {context}\n",
    "    Answer in 3-4 concise sentences.\n",
    "    \"\"\""
   ]
  },
  {
   "cell_type": "code",
   "execution_count": 6,
   "id": "9910cdc2",
   "metadata": {},
   "outputs": [],
   "source": [
    "def synthesis_prompt(main_question: str, sub_answers: str) -> str:\n",
    "    return f\"\"\"\n",
    "    You are an AI research assistant. Using the answers to sub-questions below,\n",
    "    synthesize a detailed, coherent, and well-structured final report\n",
    "    that addresses the main question:\n",
    "    Main Question: {main_question}\n",
    "    Sub-answers: {sub_answers}\n",
    "    \"\"\""
   ]
  },
  {
   "cell_type": "code",
   "execution_count": 7,
   "id": "e3572d93",
   "metadata": {},
   "outputs": [],
   "source": [
    "import requests\n",
    "\n",
    "def search_web(query: str) -> str:\n",
    "    # A simple Wikipedia search as a placeholder\n",
    "    url = f\"https://en.wikipedia.org/api/rest_v1/page/summary/{query.replace(' ', '_')}\"\n",
    "    response = requests.get(url)\n",
    "    if response.status_code == 200:\n",
    "        data = response.json()\n",
    "        return data.get(\"extract\", \"No information found.\")\n",
    "    return \"No information found.\""
   ]
  },
  {
   "cell_type": "code",
   "execution_count": 8,
   "id": "08fd8784",
   "metadata": {},
   "outputs": [],
   "source": [
    "# summarizer.py\n",
    "from openai import OpenAI\n",
    "from prompts import summarization_prompt\n",
    "\n",
    "client = OpenAI(api_key=openai_api_key)\n",
    "\n",
    "def summarize_text(sub_question: str, context: str) -> str:\n",
    "    \"\"\"\n",
    "    Summarizes the context to answer the sub-question concisely.\n",
    "    \"\"\"\n",
    "    prompt = summarization_prompt(sub_question, context)\n",
    "    response = client.chat.completions.create(\n",
    "        model=\"gpt-4o-mini\",\n",
    "        messages=[\n",
    "            {\"role\": \"system\", \"content\": \"You are an expert summarizer.\"},\n",
    "            {\"role\": \"user\", \"content\": prompt}\n",
    "        ],\n",
    "        temperature=0.3\n",
    "    )\n",
    "    return response.choices[0].message.content.strip()\n"
   ]
  },
  {
   "cell_type": "code",
   "execution_count": 9,
   "id": "7a24f6f5",
   "metadata": {},
   "outputs": [],
   "source": [
    "from openai import OpenAI\n",
    "from prompts import question_decomposer_prompt, synthesis_prompt\n",
    "from retriever import search_web\n",
    "from summarizer import summarize_text\n",
    "\n",
    "client = OpenAI(api_key=openai_api_key)\n",
    "\n",
    "    "
   ]
  },
  {
   "cell_type": "code",
   "execution_count": 10,
   "id": "be12fa7e",
   "metadata": {},
   "outputs": [],
   "source": [
    "def call_llm(prompt: str) -> str:\n",
    "    \"\"\"\n",
    "    Call the LLM with a given prompt.\n",
    "    \"\"\"\n",
    "    response = client.chat.completions.create(\n",
    "        model=\"gpt-4o-mini\",\n",
    "        messages=[\n",
    "            {\"role\": \"system\", \"content\": \"You are a helpful AI assistant.\"},\n",
    "            {\"role\": \"user\", \"content\": prompt}\n",
    "        ],\n",
    "        temperature=0.4\n",
    "    )\n",
    "    return response.choices[0].message.content.strip()"
   ]
  },
  {
   "cell_type": "code",
   "execution_count": 11,
   "id": "cec36d58",
   "metadata": {},
   "outputs": [],
   "source": [
    "def run_chain(main_question: str) -> str:\n",
    "    # Step 1: Decompose the main question\n",
    "    sub_questions = call_llm(question_decomposer_prompt(main_question)).split(\"\\n\")\n",
    "    sub_answers = []\n",
    "\n",
    "    # Step 2: For each sub-question, retrieve info and summarize\n",
    "    for sub_q in sub_questions:\n",
    "        sub_q = sub_q.strip(\"- \").strip()\n",
    "        if sub_q:\n",
    "            context = search_web(sub_q)\n",
    "            answer = summarize_text(sub_q, context)\n",
    "            sub_answers.append(f\"{sub_q}: {answer}\")\n",
    "\n",
    "    # Step 3: Synthesize final report\n",
    "    final_report = call_llm(synthesis_prompt(main_question, \"\\n\".join(sub_answers)))\n",
    "    return final_report"
   ]
  },
  {
   "cell_type": "code",
   "execution_count": 13,
   "id": "b1371fc6",
   "metadata": {},
   "outputs": [
    {
     "name": "stdout",
     "output_type": "stream",
     "text": [
      "5.38.2\n"
     ]
    },
    {
     "name": "stderr",
     "output_type": "stream",
     "text": [
      "/Volumes/Data/AI Projects/prompt-chaining-ai-research-assistant/.venv/lib/python3.13/site-packages/gradio/chat_interface.py:345: UserWarning: The 'tuples' format for chatbot messages is deprecated and will be removed in a future version of Gradio. Please set type='messages' instead, which uses openai-style 'role' and 'content' keys.\n",
      "  self.chatbot = Chatbot(\n"
     ]
    },
    {
     "name": "stdout",
     "output_type": "stream",
     "text": [
      "* Running on local URL:  http://127.0.0.1:7861\n",
      "* To create a public link, set `share=True` in `launch()`.\n"
     ]
    },
    {
     "data": {
      "text/html": [
       "<div><iframe src=\"http://127.0.0.1:7861/\" width=\"100%\" height=\"500\" allow=\"autoplay; camera; microphone; clipboard-read; clipboard-write;\" frameborder=\"0\" allowfullscreen></iframe></div>"
      ],
      "text/plain": [
       "<IPython.core.display.HTML object>"
      ]
     },
     "metadata": {},
     "output_type": "display_data"
    },
    {
     "data": {
      "text/plain": []
     },
     "execution_count": 13,
     "metadata": {},
     "output_type": "execute_result"
    }
   ],
   "source": [
    "import gradio as gr\n",
    "\n",
    "def chat_interface(question, history=[]):\n",
    "    report = run_chain(question)\n",
    "    return report\n",
    "\n",
    "\n",
    "# Launch Gradio Chat Interface\n",
    "print(gr.__version__)\n",
    "gr.ChatInterface(\n",
    "    fn=chat_interface,\n",
    "    title=\"🤖 AI Research Assistant\",\n",
    "    description=\"Ask me any research question and I'll generate a detailed, well-structured report.\",\n",
    "    textbox=gr.Textbox(placeholder=\"Type your research question here...\", container=True),\n",
    "    theme=\"default\",\n",
    "    examples=[\"What are the impacts of AI on healthcare?\"],\n",
    "    \n",
    ").launch()\n"
   ]
  }
 ],
 "metadata": {
  "kernelspec": {
   "display_name": ".venv",
   "language": "python",
   "name": "python3"
  },
  "language_info": {
   "codemirror_mode": {
    "name": "ipython",
    "version": 3
   },
   "file_extension": ".py",
   "mimetype": "text/x-python",
   "name": "python",
   "nbconvert_exporter": "python",
   "pygments_lexer": "ipython3",
   "version": "3.13.5"
  }
 },
 "nbformat": 4,
 "nbformat_minor": 5
}
